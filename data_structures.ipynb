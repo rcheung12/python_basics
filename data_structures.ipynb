{
 "cells": [
  {
   "cell_type": "markdown",
   "metadata": {},
   "source": [
    "## **Data Structures**\n",
    "\n",
    "Groups and order data in different ways, to help you solve problems.\n",
    "\n",
    "Specifically, you'll learn about:\n",
    "\n",
    "Types of Data Structures: Lists, Tuples, Sets, Dictionaries, Compound Data Structures\n",
    "Operators: Membership, Identity\n",
    "Built-In Functions and Methods"
   ]
  },
  {
   "cell_type": "markdown",
   "metadata": {},
   "source": [
    "Data structures are containers or collections of data that organize and group data types together in different ways. You can think of data structures as file folders that have organized files of data inside them."
   ]
  },
  {
   "cell_type": "markdown",
   "metadata": {},
   "source": [
    "Practice:\n",
    "\n",
    "https://www.hackerrank.com/domains/python\n",
    "\n",
    "https://www.codewars.com/dashboard"
   ]
  },
  {
   "cell_type": "code",
   "execution_count": null,
   "metadata": {
    "vscode": {
     "languageId": "plaintext"
    }
   },
   "outputs": [],
   "source": []
  },
  {
   "cell_type": "markdown",
   "metadata": {},
   "source": [
    "<img src=\"data_structures.png\" width=\"800\">"
   ]
  },
  {
   "cell_type": "markdown",
   "metadata": {},
   "source": [
    "* You can use curly braces to define a set like this: {1, 2, 3}. However, if you leave the curly braces empty like this: {} Python will instead create an empty dictionary. So to create an empty set, use set().\n",
    "** A dictionary itself is mutable, but each of its individual keys must be immutable."
   ]
  }
 ],
 "metadata": {
  "language_info": {
   "name": "python"
  }
 },
 "nbformat": 4,
 "nbformat_minor": 2
}
