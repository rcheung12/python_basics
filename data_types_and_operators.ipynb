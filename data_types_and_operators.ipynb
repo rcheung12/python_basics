{
 "cells": [
  {
   "cell_type": "markdown",
   "metadata": {},
   "source": [
    "# **Data Types and Operators**\n",
    "\n"
   ]
  },
  {
   "cell_type": "code",
   "execution_count": null,
   "metadata": {},
   "outputs": [],
   "source": []
  },
  {
   "cell_type": "markdown",
   "metadata": {},
   "source": [
    "https://peps.python.org/pep-0008/\n",
    "\n",
    "You should limit each line of code to 80 characters, though 99 is okay for certain use cases."
   ]
  },
  {
   "cell_type": "markdown",
   "metadata": {},
   "source": [
    "## **Data Types**\n",
    "\n",
    "<img src=\"data_types.png\" width=\"800\">\n"
   ]
  },
  {
   "cell_type": "markdown",
   "metadata": {},
   "source": [
    "## **Operators**\n",
    "\n",
    "<img src=\"arithmetic_operators.png\" width=\"800\">        \n"
   ]
  },
  {
   "cell_type": "markdown",
   "metadata": {},
   "source": [
    "<img src=\"comparison_operators.png\" width=\"800\">"
   ]
  },
  {
   "cell_type": "code",
   "execution_count": null,
   "metadata": {},
   "outputs": [
    {
     "data": {
      "text/plain": [
       "True"
      ]
     },
     "execution_count": 4,
     "metadata": {},
     "output_type": "execute_result"
    }
   ],
   "source": [
    "5 < 3 and 5 == 5\n",
    "5 < 3 or 5 == 5\n",
    "not 5 < 3"
   ]
  },
  {
   "cell_type": "markdown",
   "metadata": {},
   "source": [
    "## **Variables**\n",
    "\n",
    "These two are equivalent:"
   ]
  },
  {
   "cell_type": "code",
   "execution_count": 3,
   "metadata": {},
   "outputs": [],
   "source": [
    "x = 3\n",
    "y = 4\n",
    "z = 5\n",
    "\n",
    "\"\"\"\n",
    "and\n",
    "\"\"\"\n",
    "\n",
    "x, y, z = 3, 4, 5"
   ]
  },
  {
   "cell_type": "markdown",
   "metadata": {},
   "source": [
    "## **Keywords**\n",
    "\n",
    "<img src=\"keywords.png\" width=\"800\">"
   ]
  },
  {
   "cell_type": "markdown",
   "metadata": {},
   "source": [
    "## **Types of Errors**\n",
    "\n",
    "Exception: is a problem that occurs when the code is running.\n",
    "Syntax Error: is a problem detected when Python checks the code before it runs it.\n",
    "\n",
    "https://docs.python.org/3/tutorial/errors.html"
   ]
  },
  {
   "cell_type": "markdown",
   "metadata": {},
   "source": [
    "## **Strings**\n",
    "\n",
    "Strings in Python are shown as the variable type str. You can define a string with either double quotes \" or single quotes '. If the string you are creating actually has one of these two values in it, then you need to be careful to ensure your code doesn't give an error.\n",
    "\n"
   ]
  },
  {
   "cell_type": "code",
   "execution_count": 9,
   "metadata": {},
   "outputs": [],
   "source": [
    "my_string = 'this is a string!'\n",
    "my_string2 = \"this is also a string!!!\""
   ]
  },
  {
   "cell_type": "markdown",
   "metadata": {},
   "source": [
    "You can also include a \\ in your string to be able to include one of these quotes:"
   ]
  },
  {
   "cell_type": "code",
   "execution_count": 10,
   "metadata": {},
   "outputs": [
    {
     "name": "stdout",
     "output_type": "stream",
     "text": [
      "Simon's skateboard is in the garage.\n"
     ]
    }
   ],
   "source": [
    "this_string = 'Simon\\'s skateboard is in the garage.'\n",
    "print(this_string)"
   ]
  },
  {
   "cell_type": "markdown",
   "metadata": {},
   "source": [
    "If you need to print quotes:"
   ]
  },
  {
   "cell_type": "code",
   "execution_count": 14,
   "metadata": {},
   "outputs": [
    {
     "name": "stdout",
     "output_type": "stream",
     "text": [
      "\"This is a quote\"\n"
     ]
    }
   ],
   "source": [
    "quote = '\"This is a quote\"'\n",
    "print(quote)"
   ]
  },
  {
   "cell_type": "markdown",
   "metadata": {},
   "source": [
    "Type of objects will affect how operators work on them."
   ]
  },
  {
   "cell_type": "code",
   "execution_count": 16,
   "metadata": {},
   "outputs": [
    {
     "name": "stdout",
     "output_type": "stream",
     "text": [
      "3415\n"
     ]
    }
   ],
   "source": [
    "coconut_count = \"34\"\n",
    "mango_count = \"15\"\n",
    "tropical_fruit_count = coconut_count + mango_count\n",
    "print(tropical_fruit_count)"
   ]
  },
  {
   "cell_type": "markdown",
   "metadata": {},
   "source": [
    "## **The len() function**\n",
    "\n",
    "len() is a built-in Python function that returns the length of an object, like a string. This will always be an integer."
   ]
  },
  {
   "cell_type": "code",
   "execution_count": 15,
   "metadata": {},
   "outputs": [
    {
     "name": "stdout",
     "output_type": "stream",
     "text": [
      "2.5\n"
     ]
    }
   ],
   "source": [
    "print(len(\"ababa\") / len(\"ab\"))"
   ]
  },
  {
   "cell_type": "markdown",
   "metadata": {},
   "source": [
    "## **Type**\n",
    "\n",
    "type() can be used to check the data type of any variable you are working with."
   ]
  },
  {
   "cell_type": "code",
   "execution_count": 17,
   "metadata": {},
   "outputs": [
    {
     "name": "stdout",
     "output_type": "stream",
     "text": [
      "<class 'int'>\n",
      "<class 'float'>\n",
      "<class 'str'>\n",
      "<class 'bool'>\n"
     ]
    }
   ],
   "source": [
    "print(type(4))\n",
    "\n",
    "print(type(3.7))\n",
    "\n",
    "print(type('this'))\n",
    "\n",
    "print(type(True))"
   ]
  }
 ],
 "metadata": {
  "kernelspec": {
   "display_name": "jupyter_env",
   "language": "python",
   "name": "python3"
  },
  "language_info": {
   "codemirror_mode": {
    "name": "ipython",
    "version": 3
   },
   "file_extension": ".py",
   "mimetype": "text/x-python",
   "name": "python",
   "nbconvert_exporter": "python",
   "pygments_lexer": "ipython3",
   "version": "3.10.16"
  }
 },
 "nbformat": 4,
 "nbformat_minor": 2
}
